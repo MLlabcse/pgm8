{
 "cells": [
  {
   "cell_type": "code",
   "execution_count": 1,
   "id": "d1e35712",
   "metadata": {},
   "outputs": [
    {
     "name": "stdout",
     "output_type": "stream",
     "text": [
      "Iris Data set loaded...\n",
      "Dataset is split into training and testing...\n",
      "Size of trainng data and its label (135, 4) (135,)\n",
      "Size of trainng data and its label (15, 4) (15,)\n",
      "Label 0 - setosa\n",
      "Label 1 - versicolor\n",
      "Label 2 - virginica\n",
      "Results of Classification using K-nn with K=1 \n",
      " Sample: [4.9 3.  1.4 0.2]  Actual-label: 0  Predictedlabel: 0\n",
      " Sample: [4.5 2.3 1.3 0.3]  Actual-label: 0  Predictedlabel: 0\n",
      " Sample: [6.8 3.2 5.9 2.3]  Actual-label: 2  Predictedlabel: 2\n",
      " Sample: [4.6 3.1 1.5 0.2]  Actual-label: 0  Predictedlabel: 0\n",
      " Sample: [6.4 3.2 4.5 1.5]  Actual-label: 1  Predictedlabel: 1\n",
      " Sample: [7.2 3.6 6.1 2.5]  Actual-label: 2  Predictedlabel: 2\n",
      " Sample: [4.6 3.6 1.  0.2]  Actual-label: 0  Predictedlabel: 0\n",
      " Sample: [6.1 2.6 5.6 1.4]  Actual-label: 2  Predictedlabel: 2\n",
      " Sample: [5.9 3.2 4.8 1.8]  Actual-label: 1  Predictedlabel: 2\n",
      " Sample: [5.1 3.7 1.5 0.4]  Actual-label: 0  Predictedlabel: 0\n",
      " Sample: [6.5 3.  5.8 2.2]  Actual-label: 2  Predictedlabel: 2\n",
      " Sample: [5.2 3.4 1.4 0.2]  Actual-label: 0  Predictedlabel: 0\n",
      " Sample: [5.5 2.4 3.7 1. ]  Actual-label: 1  Predictedlabel: 1\n",
      " Sample: [6.3 2.7 4.9 1.8]  Actual-label: 2  Predictedlabel: 2\n",
      " Sample: [7.7 3.  6.1 2.3]  Actual-label: 2  Predictedlabel: 2\n",
      "Classification Accuracy : 0.9333333333333333\n",
      "Confusion Matrix\n",
      "[[6 0 0]\n",
      " [0 2 1]\n",
      " [0 0 6]]\n",
      "Accuracy Metrics\n",
      "              precision    recall  f1-score   support\n",
      "\n",
      "           0       1.00      1.00      1.00         6\n",
      "           1       1.00      0.67      0.80         3\n",
      "           2       0.86      1.00      0.92         6\n",
      "\n",
      "    accuracy                           0.93        15\n",
      "   macro avg       0.95      0.89      0.91        15\n",
      "weighted avg       0.94      0.93      0.93        15\n",
      "\n"
     ]
    },
    {
     "name": "stderr",
     "output_type": "stream",
     "text": [
      "C:\\Users\\Lenovo\\anaconda3\\lib\\site-packages\\sklearn\\neighbors\\_classification.py:228: FutureWarning: Unlike other reduction functions (e.g. `skew`, `kurtosis`), the default behavior of `mode` typically preserves the axis it acts along. In SciPy 1.11.0, this behavior will change: the default value of `keepdims` will become False, the `axis` over which the statistic is taken will be eliminated, and the value None will no longer be accepted. Set `keepdims` to True or False to avoid this warning.\n",
      "  mode, _ = stats.mode(_y[neigh_ind, k], axis=1)\n",
      "C:\\Users\\Lenovo\\anaconda3\\lib\\site-packages\\sklearn\\neighbors\\_classification.py:228: FutureWarning: Unlike other reduction functions (e.g. `skew`, `kurtosis`), the default behavior of `mode` typically preserves the axis it acts along. In SciPy 1.11.0, this behavior will change: the default value of `keepdims` will become False, the `axis` over which the statistic is taken will be eliminated, and the value None will no longer be accepted. Set `keepdims` to True or False to avoid this warning.\n",
      "  mode, _ = stats.mode(_y[neigh_ind, k], axis=1)\n"
     ]
    }
   ],
   "source": [
    "from sklearn.model_selection import train_test_split\n",
    "from sklearn.neighbors import KNeighborsClassifier\n",
    "from sklearn import datasets\n",
    "\n",
    "iris=datasets.load_iris()\n",
    "print(\"Iris Data set loaded...\")\n",
    "\n",
    "x_train, x_test, y_train, y_test = train_test_split(iris.data,iris.target,test_size=0.1)\n",
    "print(\"Dataset is split into training and testing...\")\n",
    "print(\"Size of trainng data and its label\",x_train.shape,y_train.shape)\n",
    "print(\"Size of trainng data and its label\",x_test.shape, y_test.shape)\n",
    "\n",
    "for i in range(len(iris.target_names)):\n",
    "    print(\"Label\", i , \"-\",str(iris.target_names[i]))\n",
    "    \n",
    "classifier = KNeighborsClassifier(n_neighbors=1)\n",
    "classifier.fit(x_train, y_train)\n",
    "y_pred=classifier.predict(x_test)\n",
    "\n",
    "print(\"Results of Classification using K-nn with K=1 \")\n",
    "\n",
    "for r in range(0,len(x_test)):\n",
    "    print(\" Sample:\", str(x_test[r]), \" Actual-label:\", str(y_test[r]), \" Predictedlabel:\",str(y_pred[r]))\n",
    "print(\"Classification Accuracy :\" , classifier.score(x_test,y_test));\n",
    "from sklearn.metrics import classification_report, confusion_matrix\n",
    "print('Confusion Matrix')\n",
    "print(confusion_matrix(y_test,y_pred))\n",
    "print('Accuracy Metrics')\n",
    "print(classification_report(y_test,y_pred))"
   ]
  },
  {
   "cell_type": "code",
   "execution_count": null,
   "id": "e5bc1f37",
   "metadata": {},
   "outputs": [],
   "source": []
  },
  {
   "cell_type": "code",
   "execution_count": null,
   "id": "555d5929",
   "metadata": {},
   "outputs": [],
   "source": []
  }
 ],
 "metadata": {
  "kernelspec": {
   "display_name": "Python 3 (ipykernel)",
   "language": "python",
   "name": "python3"
  },
  "language_info": {
   "codemirror_mode": {
    "name": "ipython",
    "version": 3
   },
   "file_extension": ".py",
   "mimetype": "text/x-python",
   "name": "python",
   "nbconvert_exporter": "python",
   "pygments_lexer": "ipython3",
   "version": "3.9.12"
  }
 },
 "nbformat": 4,
 "nbformat_minor": 5
}
